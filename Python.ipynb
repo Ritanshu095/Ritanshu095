{
 "cells": [
  {
   "cell_type": "code",
   "execution_count": null,
   "metadata": {},
   "outputs": [],
   "source": [
    "#add three numbers.\n",
    "\n",
    "def add_num(a,b,c):\n",
    "    sum = a+b+c\n",
    "    return 'sum of numbers is:'+str(sum)\n",
    "add_num(1,2,3)"
   ]
  },
  {
   "cell_type": "code",
   "execution_count": null,
   "metadata": {},
   "outputs": [],
   "source": [
    "# multiply two numbers.\n",
    "def mult(a,b):\n",
    "    multiply=a*b\n",
    "    return multiply\n",
    "mult(4,5)"
   ]
  },
  {
   "cell_type": "code",
   "execution_count": null,
   "metadata": {},
   "outputs": [],
   "source": [
    "#subtract two numbers\n",
    "def sub(a,b):\n",
    "    x=a-b\n",
    "    return x\n",
    "sub(3,4)"
   ]
  },
  {
   "cell_type": "code",
   "execution_count": null,
   "metadata": {},
   "outputs": [],
   "source": [
    "# divide first number by second number and return the quotient\n",
    "#and remainder separately.\n",
    "def div(a,b):\n",
    "    quo=a//b\n",
    "    rem=a%b\n",
    "    return quo,rem\n",
    "div(4,5)"
   ]
  },
  {
   "cell_type": "code",
   "execution_count": null,
   "metadata": {},
   "outputs": [],
   "source": [
    "#find the square of a number.\n",
    "\n",
    "def square(a):\n",
    "    return a**2\n",
    "square(3)"
   ]
  },
  {
   "cell_type": "code",
   "execution_count": null,
   "metadata": {},
   "outputs": [],
   "source": [
    "#find the greater of the two numbers given. | \n",
    "#max() conditionals and looping\n",
    "\n",
    "def max(a,b):\n",
    "    if a==b:\n",
    "        return \"No are equal!\"\n",
    "    elif a>b:\n",
    "        return a\n",
    "    return b\n",
    "max(8,4)"
   ]
  },
  {
   "cell_type": "code",
   "execution_count": null,
   "metadata": {},
   "outputs": [],
   "source": [
    "# find the cube of a number.\n",
    "\n",
    "def cube(a):\n",
    "    return a**3\n",
    "cube(5)"
   ]
  },
  {
   "cell_type": "code",
   "execution_count": null,
   "metadata": {},
   "outputs": [],
   "source": [
    "#find the area of a square.\n",
    "#find the area of a circle.\n",
    "\n",
    "def area(a):\n",
    "    area_of_square=(a**2)\n",
    "    area_of_circle= (22/7)*(a**2)\n",
    "    return area_of_square,area_of_circle\n",
    "area(4)"
   ]
  },
  {
   "cell_type": "code",
   "execution_count": null,
   "metadata": {},
   "outputs": [],
   "source": [
    "#find the simple interest given principal, interest rate and time period\n",
    "#find the compound interest given principal, interest rate and time period.\n",
    "def interest(p,r,t,n):\n",
    "    simple_interest= (p*r*t)/100\n",
    "    compound_interest= p*(((1+r/(100*n))**(n*t))-1)\n",
    "    return simple_interest, compound_interest\n",
    "interest(5000,10,2,1)"
   ]
  },
  {
   "cell_type": "code",
   "execution_count": null,
   "metadata": {},
   "outputs": [],
   "source": [
    "#print a random integer between two given integers. | \n",
    "#random - figure out which function of random module\n",
    "#loop inside function\n",
    "#for loop\n",
    "\n",
    "def random_num(a,b): \n",
    "    x=random.randint(a,b)\n",
    "    #for i in range(0,5):\n",
    "    i=1\n",
    "    while i<=5:\n",
    "        y=random.randint(a,b)\n",
    "        print(y)\n",
    "        i= i+1\n",
    "    return x\n",
    "random_num(0,9)"
   ]
  },
  {
   "cell_type": "code",
   "execution_count": null,
   "metadata": {},
   "outputs": [],
   "source": [
    "#print 5 random integers between two given integers.\n",
    "#random module\n",
    "#while loop\n",
    "#loop outside function\n",
    "\n",
    "i=1\n",
    "def random_num(a,b):\n",
    "    return random.randint(a,b)\n",
    "while i<=5:\n",
    "    print(random_num(0,9))\n",
    "    i=i+1\n",
    "\n"
   ]
  },
  {
   "cell_type": "code",
   "execution_count": null,
   "metadata": {},
   "outputs": [],
   "source": [
    "#check if a number is prime or not. | \n",
    "#loop + conditionals + modulus operator\n",
    "\n",
    "\n",
    "def prime(a):\n",
    "    if a>1:\n",
    "        for i in range(2,a):\n",
    "            if (a%i==0):\n",
    "                print(\"No. is not prime\")\n",
    "                break\n",
    "            else:\n",
    "                print(\"number is prime\")\n",
    "                break\n",
    "    \n",
    "prime(149)"
   ]
  },
  {
   "cell_type": "code",
   "execution_count": null,
   "metadata": {},
   "outputs": [],
   "source": [
    "#compute 5/0 and use try/except to catch the exceptions.\n",
    "#Also, print the exception.\n",
    "a=5\n",
    "b=0\n",
    "try:\n",
    "  c= a/b  \n",
    "except ZeroDivisionError as e:\n",
    "    print(e)\n"
   ]
  },
  {
   "cell_type": "code",
   "execution_count": null,
   "metadata": {},
   "outputs": [],
   "source": [
    "#return 3rd letter of the given string or None if the given string is less than 3 characters. \n",
    "#| Index\n",
    "str1=str(input())\n",
    "def return_3rd_letter(str1):\n",
    "    if len(str1)<3:\n",
    "        return None\n",
    "       \n",
    "    return str1[2]\n",
    "return_3rd_letter(str1)\n",
    "    "
   ]
  },
  {
   "cell_type": "code",
   "execution_count": null,
   "metadata": {},
   "outputs": [],
   "source": [
    "#return odd indexed characters from a given string or None if the string is empty. | \n",
    "#Index with Integer operations | for + integer\n",
    "str1=str(input())\n",
    "def odd_char(str1):\n",
    "    if str1==\"\":\n",
    "        return None\n",
    "    for i in range(0,len(str1)):\n",
    "        if i%2!=0:\n",
    "            print(str1[i])\n",
    "odd_char(str1)"
   ]
  },
  {
   "cell_type": "code",
   "execution_count": null,
   "metadata": {},
   "outputs": [],
   "source": [
    "#return the 3rd to 5th character of the given string or None if the string is less \n",
    "#than five characters. \n",
    "str1=input()\n",
    "def return_3rd_to_5th_char(str1):\n",
    "    if len(str1)<5:\n",
    "        return None\n",
    "       \n",
    "    return str1[2:5]\n",
    "return_3rd_to_5th_char(str1)"
   ]
  },
  {
   "cell_type": "code",
   "execution_count": null,
   "metadata": {},
   "outputs": [],
   "source": [
    "#return the joined string given two input strings. \n",
    "str1=str(input())\n",
    "str2=str(input())\n",
    "def join_string(str1,str2):\n",
    "    return str1+str2\n",
    "join_string(str1,str2)"
   ]
  },
  {
   "cell_type": "code",
   "execution_count": 10,
   "metadata": {},
   "outputs": [
    {
     "name": "stdout",
     "output_type": "stream",
     "text": [
      "aaloo\n",
      "{'a': 2, 'l': 1, 'o': 2}\n",
      "a 2\n",
      "o 2\n"
     ]
    }
   ],
   "source": [
    "#return all the words of a given string split on space (“ “) without using the inbuilt \n",
    "#method of .split(). \n",
    "# not working correctly\n",
    "str1=str(input())\n",
    "def count_each_char(str1):\n",
    "    c=0\n",
    "    list1=[]\n",
    "    dict1={}\n",
    "    for i in range(0,len(str1)):\n",
    "        c = 0\n",
    "        for j in range(0,len(str1)):\n",
    "            if str1[i]==str1[j] :\n",
    "                c=c+1\n",
    "        dict1[str1[i]]=c\n",
    "    print(dict1)\n",
    "\n",
    "    max_value=c\n",
    "    for key,values in dict1.items():\n",
    "        if max_value<values or max_value==values:\n",
    "            max_value=values\n",
    "            print(key,max_value)\n",
    "count_each_char(str1)"
   ]
  },
  {
   "cell_type": "code",
   "execution_count": null,
   "metadata": {},
   "outputs": [],
   "source": [
    "#return the number of times “a” appears in the given string.\n",
    "str1=str(input())\n",
    "def count_char(str1):\n",
    "    count=0\n",
    "    for i in str1:\n",
    "        if i=='a':\n",
    "            count= count+1\n",
    "       \n",
    "    return count\n",
    "count_char(str1)"
   ]
  },
  {
   "cell_type": "code",
   "execution_count": null,
   "metadata": {},
   "outputs": [],
   "source": [
    "#return the number of times vowels appear in the given string.\n",
    "\n",
    "str1=str(input())\n",
    "def count_vowels(str1):\n",
    "    list1=['a','e','i','o','u']\n",
    "    count=0\n",
    "    for i in str1:\n",
    "        if i in list1:\n",
    "            count= count+1\n",
    "       \n",
    "    return count\n",
    "count_vowels(str1)"
   ]
  },
  {
   "cell_type": "code",
   "execution_count": 8,
   "metadata": {},
   "outputs": [
    {
     "name": "stdout",
     "output_type": "stream",
     "text": [
      "aaloo\n",
      "{'a': 2, 'l': 1, 'o': 2}\n"
     ]
    }
   ],
   "source": [
    "#return the number of times each character appears in the string.\n",
    "\n",
    "str1=str(input())\n",
    "def count_each_char(str1):\n",
    "    c=0\n",
    "    list1=[]\n",
    "    dict1={}\n",
    "    for i in range(0,len(str1)):\n",
    "        c = 0\n",
    "        for j in range(0,len(str1)):\n",
    "            if str1[i]==str1[j] :\n",
    "                c=c+1\n",
    "        dict1[str1[i]]=c\n",
    "    print(dict1)\n",
    "count_each_char(str1)"
   ]
  },
  {
   "cell_type": "code",
   "execution_count": 5,
   "metadata": {},
   "outputs": [
    {
     "name": "stdout",
     "output_type": "stream",
     "text": [
      "ritanshu\n"
     ]
    },
    {
     "data": {
      "text/plain": [
       "'rtanshu'"
      ]
     },
     "execution_count": 5,
     "metadata": {},
     "output_type": "execute_result"
    }
   ],
   "source": [
    "#return the string after removing the character “i” \n",
    "#from the given string.\n",
    "str1=str(input())\n",
    "def remove_char(str1):\n",
    "    str2=''\n",
    "    str3=''\n",
    "    for i in range (0,len(str1)):\n",
    "        if str1[i]!='i':\n",
    "            continue\n",
    "        else:\n",
    "            str2=str1[0:i]\n",
    "            str3=str1[i+1:len(str1)]\n",
    "    return str2+str3\n",
    "            \n",
    "remove_char(str1)"
   ]
  },
  {
   "cell_type": "code",
   "execution_count": null,
   "metadata": {},
   "outputs": [],
   "source": [
    "#return the string after removing all vowels from the given string.\n",
    "\n",
    "str1=str(input())\n",
    "def remove_vowels(str1):\n",
    "    list2=[]\n",
    "    str2=''\n",
    "    list1=['a','e','i','o','u']\n",
    "    for i in range (0,len(str1)):\n",
    "        list2.append(str1[i])\n",
    "    \n",
    "    for j in list2:\n",
    "        if j not in list1:\n",
    "            continue\n",
    "        else:\n",
    "            list2.remove(j)\n",
    "    \n",
    "    for k in list2:\n",
    "        str2=str2+k\n",
    "    return str2\n",
    "remove_vowels(str1)"
   ]
  },
  {
   "cell_type": "code",
   "execution_count": null,
   "metadata": {},
   "outputs": [],
   "source": [
    "#return the string converted to title case, lowercase and uppercase.\n",
    "str1=str(input())\n",
    "def string1(str1):\n",
    "    return str1.title(), str1.upper(),str1.lower()\n",
    "string1(str1)"
   ]
  },
  {
   "cell_type": "code",
   "execution_count": null,
   "metadata": {},
   "outputs": [],
   "source": [
    "#check if a string is palindrome or not. | interview question - advanced\n",
    "\n",
    "str1=str(input())\n",
    "def palindrome(str1):\n",
    "    list1=[]\n",
    "    str2=''\n",
    "    for i in str1:\n",
    "        list1.append(i)\n",
    "    list1.reverse()\n",
    "    for j in list1:\n",
    "        str2=str2+j\n",
    "    if str1.lower()==str2.lower():\n",
    "        print(\"String is Palindrome\")\n",
    "    else:\n",
    "        print(\"Not Palindrome\")\n",
    "palindrome(str1)"
   ]
  },
  {
   "cell_type": "code",
   "execution_count": null,
   "metadata": {},
   "outputs": [],
   "source": [
    "#print the company name of a given email address where the \n",
    "#email addresses are in the \"username@companyname.com\" format \n",
    "#and are composed of only \n",
    "#alphabets.\n",
    "\n",
    "str1=str(input())\n",
    "def company_name(str1):\n",
    "    str2=''\n",
    "    for i in range(0,len(str1)):\n",
    "        if str1[i]!='@':\n",
    "            continue\n",
    "        else:\n",
    "            str2=str1[i+1:len(str1)]\n",
    "    print(str2.split('.')[0])\n",
    "company_name(str1)"
   ]
  },
  {
   "cell_type": "code",
   "execution_count": null,
   "metadata": {},
   "outputs": [],
   "source": [
    "#convert snake case to pascal case. | \n",
    "#cache_prep_interview_preparation to CachePrepInterviewPreparation\n",
    "\n",
    "str1=str(input())\n",
    "def snake_pascal(str1):\n",
    "    str2=''\n",
    "    list1=[]\n",
    "    list1=str1.split('_')\n",
    "    for i in list1:\n",
    "        str2=str2+i.title()\n",
    "    return str2\n",
    "    \n",
    "    \n",
    "snake_pascal(str1)"
   ]
  },
  {
   "cell_type": "code",
   "execution_count": null,
   "metadata": {},
   "outputs": [],
   "source": [
    "#sum all the elements of a list.\n",
    "list1=[1,2,3,4,5]\n",
    "def sum_element(list1):\n",
    "    x=0\n",
    "    for i in list1:\n",
    "        x=x+i\n",
    "    return x\n",
    "sum_element(list1)"
   ]
  },
  {
   "cell_type": "code",
   "execution_count": null,
   "metadata": {},
   "outputs": [],
   "source": [
    "#find the largest element in the given list.\n",
    "##find the minimum element in the given list.(interchange < to > and variable name to maximum)\n",
    "list1=[9,2,12,4,5]\n",
    "def largest_element(list1):\n",
    "    minimum=list1[0]\n",
    "    for i in list1:\n",
    "        if i<minimum:\n",
    "            minimum=i\n",
    "    return minimum\n",
    "largest_element(list1)"
   ]
  },
  {
   "cell_type": "code",
   "execution_count": null,
   "metadata": {},
   "outputs": [],
   "source": [
    "#to find the second largest number in a list.\n",
    "\n",
    "list1=[9,2,12,4,5]\n",
    "def second_largest_element(list1):\n",
    "    list2=[]\n",
    "    maximum=list1[0]\n",
    "    secmax=list1[0]\n",
    "    for i in list1:\n",
    "        if i>maximum:\n",
    "            maximum=i\n",
    "        elif secmax!=maximum and secmax<i:\n",
    "            secmax=i\n",
    "    return secmax\n",
    "second_largest_element(list1)"
   ]
  },
  {
   "cell_type": "code",
   "execution_count": null,
   "metadata": {},
   "outputs": [],
   "source": [
    "#to interchange first and last elements in a list.\n",
    "list1=[9,2,12,4,5]\n",
    "def swap_elements(list1):\n",
    "    first=list1.pop(0)\n",
    "    last=list1.pop(-1)\n",
    "    list1.insert(0,last)\n",
    "    list1.append(first)\n",
    "    return list1\n",
    "swap_elements(list1)"
   ]
  },
  {
   "cell_type": "code",
   "execution_count": null,
   "metadata": {},
   "outputs": [],
   "source": [
    "#Python program to swap 3rd and 5th elements of a list else \n",
    "#return None if the list has less than 3 elements.\n",
    "\n",
    "list1=[9,2,12,4,5]\n",
    "def swap_3rd_to_5th(list1):\n",
    "    if len(list1)<3:\n",
    "        return None\n",
    "    for i in range(0,len(list1)):\n",
    "        if i==2:\n",
    "            x=list1[i]\n",
    "            print(x)\n",
    "            print(list1)\n",
    "        elif i==4:\n",
    "            y=list1[i]\n",
    "            print(y)\n",
    "            list1[i]=x\n",
    "            print (list1)\n",
    "            list1[i-2]=y\n",
    "            print(list1)\n",
    "swap_3rd_to_5th(list1)"
   ]
  },
  {
   "cell_type": "code",
   "execution_count": null,
   "metadata": {},
   "outputs": [],
   "source": [
    "#to find the length of the given list without using the len() function.\n",
    "list1=[9,2,12,4,5]\n",
    "def length_of_list(list1):\n",
    "    c=0\n",
    "    for i in list1:\n",
    "        c=c+1\n",
    "    return c\n",
    "length_of_list(list1)"
   ]
  },
  {
   "cell_type": "code",
   "execution_count": null,
   "metadata": {},
   "outputs": [],
   "source": [
    "#to check if an element exists in the given list.\n",
    "\n",
    "n=int(input())\n",
    "list1=[9,2,12,4,5]\n",
    "def check_element(list1):\n",
    "        if n in list1:\n",
    "            print(str(n)+ \" is in the list\")\n",
    "        \n",
    "check_element(list1)"
   ]
  },
  {
   "cell_type": "code",
   "execution_count": null,
   "metadata": {},
   "outputs": [],
   "source": [
    "#print the elements of the list in the reverse order.\n",
    "\n",
    "list1=[9,2,12,4,5]\n",
    "def reverse_list(list1):\n",
    "    for i in range(-1,-len(list1)-1,-1):\n",
    "        print(list1[i])\n",
    "reverse_list(list1)"
   ]
  },
  {
   "cell_type": "code",
   "execution_count": null,
   "metadata": {},
   "outputs": [],
   "source": [
    "#find the product of all the numbers in the list.\n",
    "\n",
    "list1=[9,2,12,4,5]\n",
    "def prod_of_element(list1):\n",
    "    product=1\n",
    "    for i in list1:\n",
    "        product=product*i\n",
    "    return product\n",
    "prod_of_element(list1)"
   ]
  },
  {
   "cell_type": "code",
   "execution_count": null,
   "metadata": {},
   "outputs": [],
   "source": [
    "#to print even numbers in a list\n",
    "list1=[9,2,12,4,5]\n",
    "def even_num(list1):\n",
    "    for i in list1:\n",
    "        if i%2==0:\n",
    "            print (i)\n",
    "    \n",
    "even_num(list1)"
   ]
  },
  {
   "cell_type": "code",
   "execution_count": null,
   "metadata": {},
   "outputs": [],
   "source": [
    "#to print odd numbers in a list\n",
    "\n",
    "list1=[9,2,12,4,5]\n",
    "def odd_element(list1):\n",
    "    for i in list1:\n",
    "        if i%2!=0:\n",
    "            print (i)\n",
    "    \n",
    "odd_element(list1)"
   ]
  },
  {
   "cell_type": "code",
   "execution_count": null,
   "metadata": {},
   "outputs": [],
   "source": [
    "#to print values present at even index in the list (0, 2, 4 etc)\n",
    "\n",
    "list1=[9,2,12,4,5]\n",
    "def even_element(list1):\n",
    "    for i in range(0,len(list1)):\n",
    "        if i%2==0:\n",
    "            print (list1[i])\n",
    "    \n",
    "even_element(list1)"
   ]
  },
  {
   "cell_type": "code",
   "execution_count": null,
   "metadata": {},
   "outputs": [],
   "source": [
    "#to print values present at odd index in the list (0, 2, 4 etc)\n",
    "\n",
    "list1=[9,-2,12,4,-5]\n",
    "def odd_element(list1):\n",
    "    for i in range(0,len(list1)):\n",
    "        if i%2!=0:\n",
    "            print (list1[i])\n",
    "    \n",
    "odd_element(list1)"
   ]
  },
  {
   "cell_type": "code",
   "execution_count": null,
   "metadata": {},
   "outputs": [],
   "source": [
    "#to print positive numbers in a list\n",
    "\n",
    "list1=[9,-2,12,4,-5]\n",
    "def positive_num(list1):\n",
    "    for i in list1:\n",
    "        if i>0 or i==0:\n",
    "            print (i)\n",
    "    \n",
    "positive_num(list1)"
   ]
  },
  {
   "cell_type": "code",
   "execution_count": null,
   "metadata": {},
   "outputs": [],
   "source": [
    "#to print negative numbers in a list\n",
    "#to print all negative numbers in a range\n",
    "list1=[9,-2,12,4,-5]\n",
    "def neg_num(list1):\n",
    "    for i in range(-10,20,2):\n",
    "        if i<0 :\n",
    "            print (i)\n",
    "    \n",
    "neg_num(list1)"
   ]
  },
  {
   "cell_type": "code",
   "execution_count": null,
   "metadata": {},
   "outputs": [],
   "source": [
    "#to print all the words in uppercase in a given list.\n",
    "\n",
    "list1=['x-men','logan','wolverine']\n",
    "def upper_case(list1):\n",
    "    for i in list1:\n",
    "        print(i.upper())\n",
    "    \n",
    "upper_case(list1)"
   ]
  },
  {
   "cell_type": "code",
   "execution_count": null,
   "metadata": {},
   "outputs": [],
   "source": [
    "#to find which elements present in the first list are not \n",
    "#present in the second list.\n",
    "\n",
    "list1=[9,2,12,4,5]\n",
    "list2=[1,3,4,5,9]\n",
    "def find_element(list1):\n",
    "    for i in list1:\n",
    "        if i not in list2:\n",
    "            print(i)\n",
    "    \n",
    "find_element(list1)"
   ]
  },
  {
   "cell_type": "code",
   "execution_count": null,
   "metadata": {},
   "outputs": [],
   "source": [
    "#to print the number of times each element occurs in the list.\n",
    "\n",
    "list1=[9,1,1,1,1,5]\n",
    "def count_occurence(list1):\n",
    "\n",
    "    dict1={}\n",
    "    list2=[]\n",
    "    for i in list1:\n",
    "        c=0\n",
    "        for j in range(0,len(list1)):\n",
    "            if i==list1[j]:\n",
    "                c=c+1\n",
    "        dict1[i]=c\n",
    "    return dict1\n",
    "count_occurence(list1)"
   ]
  },
  {
   "cell_type": "code",
   "execution_count": null,
   "metadata": {},
   "outputs": [],
   "source": []
  },
  {
   "cell_type": "code",
   "execution_count": null,
   "metadata": {},
   "outputs": [],
   "source": [
    "#Given a valid (IPv4) IP address, return a defanged version of that \n",
    "#IP address. A defanged IP address replaces every period \".\" with \"[.]\"\n",
    "ip_add=input()\n",
    "def defanged_ip(ip_add):\n",
    "    val=\"[.]\"\n",
    "    defanged_string=\"\"\n",
    "    #if \".\" in ip_add:\n",
    "        #print(ip_add.replace(\".\",\"[.]\")) direct method\n",
    "\n",
    "    list1=[i for i in ip_add ]\n",
    "    \n",
    "    for x in range(0,len(list1)):\n",
    "        if list1[x]==\".\":\n",
    "            list1[x]=val\n",
    "        defanged_string+=list1[x]\n",
    "        \n",
    "    return defanged_string\n",
    "defanged_ip(ip_add)"
   ]
  },
  {
   "cell_type": "code",
   "execution_count": null,
   "metadata": {},
   "outputs": [],
   "source": [
    "#Given an array of string words. Return all strings in words which are \n",
    "#substrings of another word in any order. String words[i] is substring \n",
    "#of words[j], if can be obtained by removing some \n",
    "#characters to the left and/or right side of words[j].\n",
    "input_words=[\"mass\",\"as\",\"hero\",\"superhero\"]\n",
    "def find_substrings(input_words):\n",
    "    i=0\n",
    "    substring=list()\n",
    "    for i in range(0,len(input_words)):\n",
    "        word=\"\"\n",
    "        word+=input_words[i]\n",
    "        for x in input_words:\n",
    "            if x in word and len(word)>len(x):\n",
    "                substring.append(x)\n",
    "    return substring    \n",
    "find_substrings(input_words)"
   ]
  },
  {
   "cell_type": "code",
   "execution_count": null,
   "metadata": {},
   "outputs": [],
   "source": [
    "#Given a list of strings, create all possible anagrams and store as a \n",
    "#dictionary where key is the string and value is the list of anagrams.\n",
    "input_word =[\"abcd\",\"efgh\"]\n",
    "def anagrams(input_word):\n",
    "    output={}\n",
    "\n",
    "    for word in input_word:\n",
    "        list1=[]\n",
    "        list3 =[]\n",
    "        for i in word:\n",
    "            list1.append(i)\n",
    "\n",
    "        x=0\n",
    "        while x<len(list1):\n",
    "            for i in range(0,len(list1)-1):\n",
    "                list2 = []\n",
    "                str1 = \"\"\n",
    "                if i < len(list1):\n",
    "                    y=list1.pop(i)\n",
    "                    list1.insert(i+1,y)\n",
    "                    list2=list1\n",
    "                    for w in list2:\n",
    "                        str1=str1+w\n",
    "                list3.append(str1)\n",
    "                output[word]=list3\n",
    "            x = x + 1\n",
    "    print (output)\n",
    "    return 1\n",
    "anagrams(input_word)\n",
    "    "
   ]
  },
  {
   "cell_type": "code",
   "execution_count": null,
   "metadata": {},
   "outputs": [],
   "source": [
    "#Write a function to find if a given string consists of all 5 vowels.\n",
    "#assuming each vowel is occuring only once\n",
    "list1=['a','e','i','o','u']\n",
    "str1=input()\n",
    "def check_vowel(str1):\n",
    "    c=0\n",
    "    for vowel in list1:\n",
    "        if vowel in str1:\n",
    "            c=c+1\n",
    "            print (c)\n",
    "        else:\n",
    "            continue\n",
    "        \n",
    "    if c==5:\n",
    "        print(\"All vowels are present in the string\")\n",
    "    else:\n",
    "        print(\"All vowels are not present in the string\")\n",
    "check_vowel(str1)\n",
    "    \n",
    "       "
   ]
  },
  {
   "cell_type": "code",
   "execution_count": null,
   "metadata": {},
   "outputs": [],
   "source": [
    "#Write a function to remove all non-alphabetic and non-numeric characters from the \n",
    "#given string\n",
    "str1=input()\n",
    "def rem_char_num(str1):\n",
    "    alphabetical_string=\"\"\n",
    "    num_string=\"\"\n",
    "    list1=[i for i in str1]\n",
    "    print(list1)\n",
    "    for ele in list1:\n",
    "        if ele.lower()>=\"a\" and ele.lower()<=\"z\":\n",
    "            alphabetical_string+=ele\n",
    "            \n",
    "        else:\n",
    "            num_string+=ele \n",
    "    return alphabetical_string,num_string\n",
    "rem_char_num(str1)"
   ]
  },
  {
   "cell_type": "code",
   "execution_count": null,
   "metadata": {},
   "outputs": [],
   "source": [
    "#Given a pattern that a URL starts with http:// and ends with .com, \n",
    "#write a function to determine if the given \n",
    "#string is a URL.\n",
    "url=input()\n",
    "def det_url(url):\n",
    "    if url.startswith(\"http://\"):\n",
    "        if url.endswith(\".com\"):\n",
    "            print(\"string is URL\")\n",
    "        else:\n",
    "            print(\"String is not URL\")\n",
    "det_url(url)"
   ]
  },
  {
   "cell_type": "code",
   "execution_count": null,
   "metadata": {},
   "outputs": [],
   "source": [
    "#Write a function to clean string using given rules:\n",
    "#remove “ing” from the end of the word.\n",
    "#remove more than one consecutive space and replace with a single space.\n",
    "#remove comma, fullstop, hyphen from the given string.\n",
    "str1=input()\n",
    "def clean_string(str1):\n",
    "    str2=\"\"\n",
    "    if str1.endswith(\"ing\"):\n",
    "        str2+=str1[0:-3]\n",
    "    else:\n",
    "        str2+=str1\n",
    "\n",
    "    list1=[i for i in str2]\n",
    "    str3=\"\"\n",
    "    for ele in range(0,len(list1)-1):\n",
    "        if list1[ele]==\" \" and list1[ele+1]==\" \":\n",
    "            str3+=list1[ele]\n",
    "            list1.pop(ele)\n",
    "\n",
    "        elif list1[ele]==\",\" or list1[ele]==\".\" or list1[ele]==\"-\":\n",
    "                list1.pop(ele)\n",
    "        else:\n",
    "            str3+=list1[ele]\n",
    "    print(str3)\n",
    "clean_string(str1)\n",
    "        "
   ]
  },
  {
   "cell_type": "code",
   "execution_count": null,
   "metadata": {},
   "outputs": [],
   "source": [
    "#Write a function to find the maximum product of two elements in a list of integers.\n",
    "list1=[1,2,5,7,8]\n",
    "def max_product(list1):\n",
    "    list2=[]\n",
    "    prod=0\n",
    "    for i in range(0,len(list1)):\n",
    "        for j in range(0,len(list1)):\n",
    "                if i!=j:\n",
    "                    prod=list1[i]*list1[j]\n",
    "                    list2.append(prod)\n",
    "    max_prod=list2[0]\n",
    "    for i in list2:\n",
    "        if i>max_prod:\n",
    "            max_prod=i\n",
    "        else:\n",
    "            continue\n",
    "    print(max_prod)\n",
    "max_product(list1)"
   ]
  },
  {
   "cell_type": "code",
   "execution_count": null,
   "metadata": {},
   "outputs": [],
   "source": [
    "#Given two lists, write a function to find the maximum product of two elements within or across both lists.\n",
    "list1=[1,2,5,7,8]\n",
    "list2=[2,4,5,6,7,9,12]\n",
    "def max_product(list1,list2):\n",
    "    product=0\n",
    "    list3=[]\n",
    "    for ele in list1:\n",
    "        for val in list2:\n",
    "            product=ele*val\n",
    "            list3.append(product)\n",
    "    prod=0\n",
    "    for i in range(0,len(list1)):\n",
    "        for j in range(0,len(list1)):\n",
    "            if i!=j:\n",
    "                prod=list1[i]*list1[j]\n",
    "                list3.append(prod)\n",
    "    value=0\n",
    "    for m in range(0,len(list2)):\n",
    "        for  n in range(0,len(list2)):\n",
    "            if m!=n:\n",
    "                value=list2[m]*list2[n]\n",
    "                list3.append(value)\n",
    "    max_prod=list3[0]\n",
    "    for i in list3:\n",
    "        if i>max_prod:\n",
    "            max_prod=i\n",
    "        else:\n",
    "            continue\n",
    "    print(max_prod)\n",
    "max_product(list1,list2)"
   ]
  },
  {
   "cell_type": "code",
   "execution_count": null,
   "metadata": {},
   "outputs": [],
   "source": []
  }
 ],
 "metadata": {
  "kernelspec": {
   "display_name": "Python 3",
   "language": "python",
   "name": "python3"
  },
  "language_info": {
   "codemirror_mode": {
    "name": "ipython",
    "version": 3
   },
   "file_extension": ".py",
   "mimetype": "text/x-python",
   "name": "python",
   "nbconvert_exporter": "python",
   "pygments_lexer": "ipython3",
   "version": "3.9.2"
  }
 },
 "nbformat": 4,
 "nbformat_minor": 4
}
